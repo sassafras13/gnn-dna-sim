{
 "cells": [
  {
   "cell_type": "markdown",
   "id": "9b53b3ce-9a15-4f54-be4b-04a6a3852d71",
   "metadata": {},
   "source": [
    "# Running oxDNA Analyses using OAT \n",
    "\n",
    "The oxDNA analysis tools have been bundled up into a Python library so I want to get the hang of using them as Python functions instead of making calls to the command line. "
   ]
  },
  {
   "cell_type": "code",
   "execution_count": 1,
   "id": "37a45543-7a79-44fb-8075-980bb3caaf39",
   "metadata": {},
   "outputs": [
    {
     "ename": "ModuleNotFoundError",
     "evalue": "No module named 'oxDNA_analysis_tools.deviation'",
     "output_type": "error",
     "traceback": [
      "\u001b[0;31m---------------------------------------------------------------------------\u001b[0m",
      "\u001b[0;31mModuleNotFoundError\u001b[0m                       Traceback (most recent call last)",
      "\u001b[0;32m/tmp/ipykernel_46177/2718057574.py\u001b[0m in \u001b[0;36m<module>\u001b[0;34m\u001b[0m\n\u001b[1;32m      1\u001b[0m \u001b[0;32mfrom\u001b[0m \u001b[0moxDNA_analysis_tools\u001b[0m\u001b[0;34m.\u001b[0m\u001b[0mmean\u001b[0m \u001b[0;32mimport\u001b[0m \u001b[0mmean\u001b[0m\u001b[0;34m\u001b[0m\u001b[0;34m\u001b[0m\u001b[0m\n\u001b[0;32m----> 2\u001b[0;31m \u001b[0;32mfrom\u001b[0m \u001b[0moxDNA_analysis_tools\u001b[0m\u001b[0;34m.\u001b[0m\u001b[0mdeviation\u001b[0m \u001b[0;32mimport\u001b[0m \u001b[0mdeviation\u001b[0m\u001b[0;34m\u001b[0m\u001b[0;34m\u001b[0m\u001b[0m\n\u001b[0m\u001b[1;32m      3\u001b[0m \u001b[0;32mfrom\u001b[0m \u001b[0moxDNA_analysis_tools\u001b[0m\u001b[0;34m.\u001b[0m\u001b[0mdeviation\u001b[0m \u001b[0;32mimport\u001b[0m \u001b[0moutput\u001b[0m\u001b[0;34m\u001b[0m\u001b[0;34m\u001b[0m\u001b[0m\n\u001b[1;32m      4\u001b[0m \u001b[0;34m\u001b[0m\u001b[0m\n\u001b[1;32m      5\u001b[0m \u001b[0;31m# all functions required to read a configuration using the new RyeReader\u001b[0m\u001b[0;34m\u001b[0m\u001b[0;34m\u001b[0m\u001b[0;34m\u001b[0m\u001b[0m\n",
      "\u001b[0;31mModuleNotFoundError\u001b[0m: No module named 'oxDNA_analysis_tools.deviation'"
     ]
    }
   ],
   "source": [
    "from oxDNA_analysis_tools.mean import mean\n",
    "from oxDNA_analysis_tools.deviation import deviation\n",
    "from oxDNA_analysis_tools.deviation import output\n",
    "\n",
    "# all functions required to read a configuration using the new RyeReader\n",
    "from oxDNA_analysis_tools.UTILS.RyeReader import describe, get_confs, inbox\n",
    "\n",
    "# the function used to visualize a configuration in oxView\n",
    "from oxDNA_analysis_tools.UTILS.oxview import oxdna_conf"
   ]
  },
  {
   "cell_type": "code",
   "execution_count": null,
   "id": "0a9d5b8c-af58-490f-b467-0dd52478db58",
   "metadata": {},
   "outputs": [],
   "source": [
    "top = \"./hairpin.top\"\n",
    "traj = \"./hairpin.conf\"\n",
    "input_file = \"./input\"\n",
    "# RyeReader uses indexing allows for random access in the trajectory\n",
    "top_info, traj_info = describe(top, traj)"
   ]
  }
 ],
 "metadata": {
  "kernelspec": {
   "display_name": "Python 3 (ipykernel)",
   "language": "python",
   "name": "python3"
  },
  "language_info": {
   "codemirror_mode": {
    "name": "ipython",
    "version": 3
   },
   "file_extension": ".py",
   "mimetype": "text/x-python",
   "name": "python",
   "nbconvert_exporter": "python",
   "pygments_lexer": "ipython3",
   "version": "3.8.10"
  }
 },
 "nbformat": 4,
 "nbformat_minor": 5
}
